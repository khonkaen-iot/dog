{
  "nbformat": 4,
  "nbformat_minor": 0,
  "metadata": {
    "colab": {
      "provenance": [],
      "authorship_tag": "ABX9TyMnvlxYBHwFxBhld6IB80V2",
      "include_colab_link": true
    },
    "kernelspec": {
      "name": "python3",
      "display_name": "Python 3"
    },
    "language_info": {
      "name": "python"
    }
  },
  "cells": [
    {
      "cell_type": "markdown",
      "metadata": {
        "id": "view-in-github",
        "colab_type": "text"
      },
      "source": [
        "<a href=\"https://colab.research.google.com/github/khonkaen-iot/dog/blob/main/DogBreedsProject_video.ipynb\" target=\"_parent\"><img src=\"https://colab.research.google.com/assets/colab-badge.svg\" alt=\"Open In Colab\"/></a>"
      ]
    },
    {
      "cell_type": "markdown",
      "source": [
        "#0.Load datset & install YOLO"
      ],
      "metadata": {
        "id": "EZjA983Q0svH"
      }
    },
    {
      "cell_type": "code",
      "source": [
        "from google.colab import drive\n",
        "drive.mount('/content/drive')"
      ],
      "metadata": {
        "colab": {
          "base_uri": "https://localhost:8080/"
        },
        "id": "NwIbt1c_W4o5",
        "outputId": "de9c3f10-faa1-4f98-9425-5673d808151b"
      },
      "execution_count": null,
      "outputs": [
        {
          "output_type": "stream",
          "name": "stdout",
          "text": [
            "Mounted at /content/drive\n"
          ]
        }
      ]
    },
    {
      "cell_type": "code",
      "source": [
        "!pip install ultralytics -q"
      ],
      "metadata": {
        "colab": {
          "base_uri": "https://localhost:8080/"
        },
        "id": "IdS7Op801Khy",
        "outputId": "b288d27e-3186-4045-af26-2fe1e24df2d8"
      },
      "execution_count": null,
      "outputs": [
        {
          "output_type": "stream",
          "name": "stdout",
          "text": [
            "\u001b[?25l     \u001b[90m━━━━━━━━━━━━━━━━━━━━━━━━━━━━━━━━━━━━━━━━\u001b[0m \u001b[32m0.0/605.5 kB\u001b[0m \u001b[31m?\u001b[0m eta \u001b[36m-:--:--\u001b[0m\r\u001b[2K     \u001b[91m━━━━━━━━━\u001b[0m\u001b[91m╸\u001b[0m\u001b[90m━━━━━━━━━━━━━━━━━━━━━━━━━━━━━\u001b[0m \u001b[32m153.6/605.5 kB\u001b[0m \u001b[31m4.8 MB/s\u001b[0m eta \u001b[36m0:00:01\u001b[0m\r\u001b[2K     \u001b[91m━━━━━━━━━━━━━━━━━━━━━━━━━━━━━━━━━━━━━\u001b[0m\u001b[91m╸\u001b[0m \u001b[32m604.2/605.5 kB\u001b[0m \u001b[31m10.1 MB/s\u001b[0m eta \u001b[36m0:00:01\u001b[0m\r\u001b[2K     \u001b[90m━━━━━━━━━━━━━━━━━━━━━━━━━━━━━━━━━━━━━━━\u001b[0m \u001b[32m605.5/605.5 kB\u001b[0m \u001b[31m8.4 MB/s\u001b[0m eta \u001b[36m0:00:00\u001b[0m\n",
            "\u001b[?25h"
          ]
        }
      ]
    },
    {
      "cell_type": "code",
      "source": [
        "!mkdir ~/.kaggle\n",
        "!cp /content/drive/MyDrive/kaggle.json ~/.kaggle/\n",
        "!chmod 600 ~/.kaggle/kaggle.json"
      ],
      "metadata": {
        "id": "Ghw8MaqG1aDn"
      },
      "execution_count": null,
      "outputs": []
    },
    {
      "cell_type": "code",
      "source": [
        "!pwd"
      ],
      "metadata": {
        "colab": {
          "base_uri": "https://localhost:8080/"
        },
        "id": "yCEkhIDt14nd",
        "outputId": "c61d6bc6-2aea-4cdf-ee80-79cb59d6a1c1"
      },
      "execution_count": null,
      "outputs": [
        {
          "output_type": "stream",
          "name": "stdout",
          "text": [
            "/content\n"
          ]
        }
      ]
    },
    {
      "cell_type": "code",
      "source": [
        "!kaggle datasets download jessicali9530/stanford-dogs-dataset"
      ],
      "metadata": {
        "colab": {
          "base_uri": "https://localhost:8080/"
        },
        "id": "nekyz35Z18Bt",
        "outputId": "1d766f34-c301-4de6-e974-9fc4bd6e409c"
      },
      "execution_count": null,
      "outputs": [
        {
          "output_type": "stream",
          "name": "stdout",
          "text": [
            "Downloading stanford-dogs-dataset.zip to /content\n",
            "100% 749M/750M [00:23<00:00, 40.8MB/s]\n",
            "100% 750M/750M [00:23<00:00, 33.9MB/s]\n"
          ]
        }
      ]
    },
    {
      "cell_type": "code",
      "source": [
        "!unzip -q /content/stanford-dogs-dataset.zip"
      ],
      "metadata": {
        "id": "GfGNT-Tm2SBO"
      },
      "execution_count": null,
      "outputs": []
    },
    {
      "cell_type": "markdown",
      "source": [
        "#1.Preparation Datasets"
      ],
      "metadata": {
        "id": "elKVdXdb2m2k"
      }
    },
    {
      "cell_type": "code",
      "source": [
        "import os\n",
        "\n",
        "source_dir = '/content/images/Images'\n",
        "\n",
        "img_paths = []\n",
        "\n",
        "for root , dir, files in os.walk(source_dir):\n",
        "  for file in files:\n",
        "    file_path = os.path.join(root,file)\n",
        "    img_paths.append(file_path)\n",
        "print(len(img_paths))"
      ],
      "metadata": {
        "colab": {
          "base_uri": "https://localhost:8080/"
        },
        "id": "7NPAHVsS3sDU",
        "outputId": "f44dd9cb-249c-4692-8c09-8d6012845942"
      },
      "execution_count": null,
      "outputs": [
        {
          "output_type": "stream",
          "name": "stdout",
          "text": [
            "20580\n"
          ]
        }
      ]
    },
    {
      "cell_type": "code",
      "source": [
        "import os\n",
        "\n",
        "source_dir = '/content/annotations/Annotation'\n",
        "\n",
        "anno_paths = []\n",
        "\n",
        "for root , dir, files in os.walk(source_dir):\n",
        "  for file in files:\n",
        "    file_path = os.path.join(root,file)\n",
        "    anno_paths.append(file_path)\n",
        "print(len(anno_paths))"
      ],
      "metadata": {
        "colab": {
          "base_uri": "https://localhost:8080/"
        },
        "id": "WRi5xxR_4y2p",
        "outputId": "79379c4a-401e-4d3e-ba16-a35129506381"
      },
      "execution_count": null,
      "outputs": [
        {
          "output_type": "stream",
          "name": "stdout",
          "text": [
            "20580\n"
          ]
        }
      ]
    },
    {
      "cell_type": "code",
      "source": [
        "img_paths[:3]"
      ],
      "metadata": {
        "colab": {
          "base_uri": "https://localhost:8080/"
        },
        "id": "GSiD59sz56bz",
        "outputId": "c7b96103-5fe9-47f0-d334-5e67604398e1"
      },
      "execution_count": null,
      "outputs": [
        {
          "output_type": "execute_result",
          "data": {
            "text/plain": [
              "['/content/images/Images/n02094258-Norwich_terrier/n02094258_1281.jpg',\n",
              " '/content/images/Images/n02094258-Norwich_terrier/n02094258_1036.jpg',\n",
              " '/content/images/Images/n02094258-Norwich_terrier/n02094258_112.jpg']"
            ]
          },
          "metadata": {},
          "execution_count": 20
        }
      ]
    },
    {
      "cell_type": "code",
      "source": [
        "img_paths[-3:]"
      ],
      "metadata": {
        "colab": {
          "base_uri": "https://localhost:8080/"
        },
        "id": "XIFeHXo96KRz",
        "outputId": "3de36711-1564-46fe-9f71-701935b71615"
      },
      "execution_count": null,
      "outputs": [
        {
          "output_type": "execute_result",
          "data": {
            "text/plain": [
              "['/content/images/Images/n02106662-German_shepherd/n02106662_3953.jpg',\n",
              " '/content/images/Images/n02106662-German_shepherd/n02106662_25917.jpg',\n",
              " '/content/images/Images/n02106662-German_shepherd/n02106662_18065.jpg']"
            ]
          },
          "metadata": {},
          "execution_count": 21
        }
      ]
    },
    {
      "cell_type": "code",
      "source": [
        "!mkdir aa"
      ],
      "metadata": {
        "id": "yXMnsUKx6279"
      },
      "execution_count": null,
      "outputs": []
    },
    {
      "cell_type": "code",
      "source": [
        "import shutil\n",
        "source_file = '/content/images/Images/n02085620-Chihuahua/n02085620_10074.jpg'\n",
        "destination = '/content/aa/n02085620_10074.jpg'\n",
        "shutil.copy2(source_file,destination)"
      ],
      "metadata": {
        "colab": {
          "base_uri": "https://localhost:8080/",
          "height": 36
        },
        "id": "pzc-Fw076U5h",
        "outputId": "3f0d392d-8c7e-4b51-cb16-9b26fe04b758"
      },
      "execution_count": null,
      "outputs": [
        {
          "output_type": "execute_result",
          "data": {
            "text/plain": [
              "'/content/aa/n02085620_10074.jpg'"
            ],
            "application/vnd.google.colaboratory.intrinsic+json": {
              "type": "string"
            }
          },
          "metadata": {},
          "execution_count": 25
        }
      ]
    },
    {
      "cell_type": "code",
      "source": [
        "import shutil\n",
        "source_file = '/content/images/Images/n02085620-Chihuahua/n02085620_10074.jpg'\n",
        "destination = '/content/aa'"
      ],
      "metadata": {
        "id": "tSEx7k_m7L5E"
      },
      "execution_count": null,
      "outputs": []
    },
    {
      "cell_type": "code",
      "source": [
        "des_path = source_file.replace('/content/images/Images/n02085620-Chihuahua',destination )\n",
        "des_path"
      ],
      "metadata": {
        "colab": {
          "base_uri": "https://localhost:8080/",
          "height": 36
        },
        "id": "TelhvAl7760Y",
        "outputId": "4fadcce1-615f-4989-f9bb-9a957fa28fde"
      },
      "execution_count": null,
      "outputs": [
        {
          "output_type": "execute_result",
          "data": {
            "text/plain": [
              "'/content/aa/n02085620_10074.jpg'"
            ],
            "application/vnd.google.colaboratory.intrinsic+json": {
              "type": "string"
            }
          },
          "metadata": {},
          "execution_count": 29
        }
      ]
    },
    {
      "cell_type": "code",
      "source": [
        "import shutil\n",
        "source_file = '/content/images/Images/n02085620-Chihuahua/n02085620_10074.jpg'\n",
        "destination = '/content/aa'"
      ],
      "metadata": {
        "id": "ULuhtsDC8RKG"
      },
      "execution_count": null,
      "outputs": []
    },
    {
      "cell_type": "code",
      "source": [
        "source_file.split('/')"
      ],
      "metadata": {
        "colab": {
          "base_uri": "https://localhost:8080/"
        },
        "id": "Bm1v22Wp8hSO",
        "outputId": "12f584ec-7d17-421d-bce7-f9f19404cf73"
      },
      "execution_count": null,
      "outputs": [
        {
          "output_type": "execute_result",
          "data": {
            "text/plain": [
              "['',\n",
              " 'content',\n",
              " 'images',\n",
              " 'Images',\n",
              " 'n02085620-Chihuahua',\n",
              " 'n02085620_10074.jpg']"
            ]
          },
          "metadata": {},
          "execution_count": 31
        }
      ]
    },
    {
      "cell_type": "code",
      "source": [
        "source_file.split('/')[-1]"
      ],
      "metadata": {
        "colab": {
          "base_uri": "https://localhost:8080/",
          "height": 36
        },
        "id": "ZPado5YQ8mp5",
        "outputId": "e1105b1b-a780-428b-9831-19b008c4ac88"
      },
      "execution_count": null,
      "outputs": [
        {
          "output_type": "execute_result",
          "data": {
            "text/plain": [
              "'n02085620_10074.jpg'"
            ],
            "application/vnd.google.colaboratory.intrinsic+json": {
              "type": "string"
            }
          },
          "metadata": {},
          "execution_count": 33
        }
      ]
    },
    {
      "cell_type": "code",
      "source": [
        "true_des =  destination+'/' + source_file.split('/')[-1]\n",
        "true_des"
      ],
      "metadata": {
        "colab": {
          "base_uri": "https://localhost:8080/",
          "height": 36
        },
        "id": "Jo1B-WYq8xvd",
        "outputId": "ebb43c27-3a01-4852-9661-c629570a1400"
      },
      "execution_count": null,
      "outputs": [
        {
          "output_type": "execute_result",
          "data": {
            "text/plain": [
              "'/content/aa/n02085620_10074.jpg'"
            ],
            "application/vnd.google.colaboratory.intrinsic+json": {
              "type": "string"
            }
          },
          "metadata": {},
          "execution_count": 35
        }
      ]
    },
    {
      "cell_type": "code",
      "source": [
        "##os\n",
        "import os"
      ],
      "metadata": {
        "id": "sq-0C_TF9H2o"
      },
      "execution_count": null,
      "outputs": []
    },
    {
      "cell_type": "code",
      "source": [
        "!pwd"
      ],
      "metadata": {
        "colab": {
          "base_uri": "https://localhost:8080/"
        },
        "id": "wnzKsVwG9cNr",
        "outputId": "a64b0933-2b30-4740-8f0d-6e2fb1d1e45a"
      },
      "execution_count": null,
      "outputs": [
        {
          "output_type": "stream",
          "name": "stdout",
          "text": [
            "/content\n"
          ]
        }
      ]
    },
    {
      "cell_type": "code",
      "source": [
        "os.getcwd()"
      ],
      "metadata": {
        "colab": {
          "base_uri": "https://localhost:8080/",
          "height": 36
        },
        "id": "g58Jeocl9XKT",
        "outputId": "fb5cbe94-5f17-4604-9046-0f612ff94f64"
      },
      "execution_count": null,
      "outputs": [
        {
          "output_type": "execute_result",
          "data": {
            "text/plain": [
              "'/content'"
            ],
            "application/vnd.google.colaboratory.intrinsic+json": {
              "type": "string"
            }
          },
          "metadata": {},
          "execution_count": 39
        }
      ]
    },
    {
      "cell_type": "code",
      "source": [
        "source_file"
      ],
      "metadata": {
        "colab": {
          "base_uri": "https://localhost:8080/",
          "height": 36
        },
        "id": "MuUE0IjL9oPu",
        "outputId": "7981dbba-0c52-4b94-8f32-077863db1223"
      },
      "execution_count": null,
      "outputs": [
        {
          "output_type": "execute_result",
          "data": {
            "text/plain": [
              "'/content/images/Images/n02085620-Chihuahua/n02085620_10074.jpg'"
            ],
            "application/vnd.google.colaboratory.intrinsic+json": {
              "type": "string"
            }
          },
          "metadata": {},
          "execution_count": 40
        }
      ]
    },
    {
      "cell_type": "code",
      "source": [
        "f_name = os.path.basename(source_file)\n",
        "f_name"
      ],
      "metadata": {
        "colab": {
          "base_uri": "https://localhost:8080/",
          "height": 36
        },
        "id": "0JBsFs7R9gE9",
        "outputId": "a4cf359a-f7dd-4b0b-dee3-e86619ca3183"
      },
      "execution_count": null,
      "outputs": [
        {
          "output_type": "execute_result",
          "data": {
            "text/plain": [
              "'n02085620_10074.jpg'"
            ],
            "application/vnd.google.colaboratory.intrinsic+json": {
              "type": "string"
            }
          },
          "metadata": {},
          "execution_count": 43
        }
      ]
    },
    {
      "cell_type": "code",
      "source": [
        "destination"
      ],
      "metadata": {
        "colab": {
          "base_uri": "https://localhost:8080/",
          "height": 36
        },
        "id": "VPzn-SJ_9v7z",
        "outputId": "909c054e-f128-4ee9-af95-c9a4cf251993"
      },
      "execution_count": null,
      "outputs": [
        {
          "output_type": "execute_result",
          "data": {
            "text/plain": [
              "'/content/aa'"
            ],
            "application/vnd.google.colaboratory.intrinsic+json": {
              "type": "string"
            }
          },
          "metadata": {},
          "execution_count": 42
        }
      ]
    },
    {
      "cell_type": "code",
      "source": [
        "os.path.join(destination,f_name )"
      ],
      "metadata": {
        "colab": {
          "base_uri": "https://localhost:8080/",
          "height": 36
        },
        "id": "U7-lABBl9sF4",
        "outputId": "f3798caf-5423-4ba8-ce67-b1b4a3040293"
      },
      "execution_count": null,
      "outputs": [
        {
          "output_type": "execute_result",
          "data": {
            "text/plain": [
              "'/content/aa/n02085620_10074.jpg'"
            ],
            "application/vnd.google.colaboratory.intrinsic+json": {
              "type": "string"
            }
          },
          "metadata": {},
          "execution_count": 44
        }
      ]
    },
    {
      "cell_type": "code",
      "source": [
        "##Pathlib"
      ],
      "metadata": {
        "id": "7IuvzFCx9-Vx"
      },
      "execution_count": null,
      "outputs": []
    },
    {
      "cell_type": "code",
      "source": [
        "!mkdir a2"
      ],
      "metadata": {
        "id": "KkrCxFHn-cor"
      },
      "execution_count": null,
      "outputs": []
    },
    {
      "cell_type": "code",
      "source": [
        "import shutil\n",
        "source_file = '/content/images/Images/n02085620-Chihuahua/n02085620_10074.jpg'\n",
        "dest_folder = '/content/a2'\n",
        "dest_path = os.path.join(dest_folder, os.path.basename(source_file))\n",
        "shutil.copy2(source_file,dest_path)"
      ],
      "metadata": {
        "colab": {
          "base_uri": "https://localhost:8080/",
          "height": 36
        },
        "id": "JIAycQD--J06",
        "outputId": "4c620346-7018-4555-a86c-8cdf0e48a007"
      },
      "execution_count": null,
      "outputs": [
        {
          "output_type": "execute_result",
          "data": {
            "text/plain": [
              "'/content/a2/n02085620_10074.jpg'"
            ],
            "application/vnd.google.colaboratory.intrinsic+json": {
              "type": "string"
            }
          },
          "metadata": {},
          "execution_count": 47
        }
      ]
    },
    {
      "cell_type": "code",
      "source": [
        "img_paths[0]"
      ],
      "metadata": {
        "colab": {
          "base_uri": "https://localhost:8080/",
          "height": 36
        },
        "id": "sbDwbZ6y-_Z6",
        "outputId": "95f04ce8-10df-4140-fdeb-08b82339246d"
      },
      "execution_count": null,
      "outputs": [
        {
          "output_type": "execute_result",
          "data": {
            "text/plain": [
              "'/content/images/Images/n02094258-Norwich_terrier/n02094258_1281.jpg'"
            ],
            "application/vnd.google.colaboratory.intrinsic+json": {
              "type": "string"
            }
          },
          "metadata": {},
          "execution_count": 48
        }
      ]
    },
    {
      "cell_type": "code",
      "source": [
        "# !mkdir -p data/images"
      ],
      "metadata": {
        "id": "ArbV9153_HmL"
      },
      "execution_count": null,
      "outputs": []
    },
    {
      "cell_type": "code",
      "source": [
        "## Real copy\n",
        "dest_folder = '/content/data/images'\n",
        "\n",
        "os.makedirs(dest_folder, exist_ok=True)\n",
        "\n",
        "for img_path in img_paths:\n",
        "  dest_path = os.path.join(dest_folder, os.path.basename(img_path))\n",
        "  shutil.copy2(img_path, dest_path)\n"
      ],
      "metadata": {
        "id": "-AujVHmH_S8R"
      },
      "execution_count": null,
      "outputs": []
    },
    {
      "cell_type": "code",
      "source": [
        "## Real copy labels\n",
        "dest_folder = '/content/data/labels'\n",
        "\n",
        "os.makedirs(dest_folder, exist_ok=True)\n",
        "\n",
        "for anno_path in anno_paths:\n",
        "  dest_path = os.path.join(dest_folder, os.path.basename(anno_path))\n",
        "  shutil.copy2(anno_path, dest_path)"
      ],
      "metadata": {
        "id": "sD86t_8IAF0a"
      },
      "execution_count": null,
      "outputs": []
    },
    {
      "cell_type": "code",
      "source": [
        "# Check no. of files\n",
        "import os\n",
        "\n",
        "source_dir = '/content/data/images'\n",
        "\n",
        "img_paths = []\n",
        "\n",
        "for root , dir, files in os.walk(source_dir):\n",
        "  for file in files:\n",
        "    file_path = os.path.join(root,file)\n",
        "    img_paths.append(file_path)\n",
        "print(len(img_paths))"
      ],
      "metadata": {
        "id": "lcpO2Aj4BI3W",
        "colab": {
          "base_uri": "https://localhost:8080/"
        },
        "outputId": "bfc396ad-e947-435a-8717-67299b39c8ae"
      },
      "execution_count": 63,
      "outputs": [
        {
          "output_type": "stream",
          "name": "stdout",
          "text": [
            "20580\n"
          ]
        }
      ]
    },
    {
      "cell_type": "code",
      "source": [
        "# Check no. of files of labels\n",
        "import os\n",
        "\n",
        "source_dir = '/content/data/labels'\n",
        "\n",
        "lable_paths = []\n",
        "\n",
        "for root , dir, files in os.walk(source_dir):\n",
        "  for file in files:\n",
        "    file_path = os.path.join(root,file)\n",
        "    lable_paths.append(file_path)\n",
        "print(len(lable_paths))"
      ],
      "metadata": {
        "colab": {
          "base_uri": "https://localhost:8080/"
        },
        "id": "XmeODASHCHp4",
        "outputId": "6585f74f-8dee-4cf9-d969-9c6f1f0223b0"
      },
      "execution_count": 64,
      "outputs": [
        {
          "output_type": "stream",
          "name": "stdout",
          "text": [
            "20580\n"
          ]
        }
      ]
    },
    {
      "cell_type": "code",
      "source": [
        "img_paths[:3]"
      ],
      "metadata": {
        "colab": {
          "base_uri": "https://localhost:8080/"
        },
        "id": "kArQoQEeCMPG",
        "outputId": "601df932-d944-4e86-9db9-c9f7fafbdd34"
      },
      "execution_count": 65,
      "outputs": [
        {
          "output_type": "execute_result",
          "data": {
            "text/plain": [
              "['/content/data/images/n02101006_680.jpg',\n",
              " '/content/data/images/n02087046_505.jpg',\n",
              " '/content/data/images/n02096294_1564.jpg']"
            ]
          },
          "metadata": {},
          "execution_count": 65
        }
      ]
    },
    {
      "cell_type": "code",
      "source": [
        "lable_paths[:3]"
      ],
      "metadata": {
        "colab": {
          "base_uri": "https://localhost:8080/"
        },
        "id": "oZEW-027CTtH",
        "outputId": "174492b3-9881-490f-afbf-7f86464b5cc8"
      },
      "execution_count": 67,
      "outputs": [
        {
          "output_type": "execute_result",
          "data": {
            "text/plain": [
              "['/content/data/labels/n02112018_13600',\n",
              " '/content/data/labels/n02110185_712',\n",
              " '/content/data/labels/n02107683_2965']"
            ]
          },
          "metadata": {},
          "execution_count": 67
        }
      ]
    },
    {
      "cell_type": "code",
      "source": [],
      "metadata": {
        "id": "lqxvO--vCYMd"
      },
      "execution_count": null,
      "outputs": []
    }
  ]
}