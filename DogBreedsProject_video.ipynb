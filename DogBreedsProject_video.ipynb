{
  "nbformat": 4,
  "nbformat_minor": 0,
  "metadata": {
    "colab": {
      "provenance": [],
      "authorship_tag": "ABX9TyP6TDA697H3j9MOnSbIOoLQ",
      "include_colab_link": true
    },
    "kernelspec": {
      "name": "python3",
      "display_name": "Python 3"
    },
    "language_info": {
      "name": "python"
    }
  },
  "cells": [
    {
      "cell_type": "markdown",
      "metadata": {
        "id": "view-in-github",
        "colab_type": "text"
      },
      "source": [
        "<a href=\"https://colab.research.google.com/github/khonkaen-iot/dog/blob/main/DogBreedsProject_video.ipynb\" target=\"_parent\"><img src=\"https://colab.research.google.com/assets/colab-badge.svg\" alt=\"Open In Colab\"/></a>"
      ]
    },
    {
      "cell_type": "markdown",
      "source": [
        "#0.Load datset & install YOLO"
      ],
      "metadata": {
        "id": "EZjA983Q0svH"
      }
    },
    {
      "cell_type": "code",
      "source": [
        "from google.colab import drive\n",
        "drive.mount('/content/drive')"
      ],
      "metadata": {
        "colab": {
          "base_uri": "https://localhost:8080/"
        },
        "id": "NwIbt1c_W4o5",
        "outputId": "ab836325-7a8b-48bf-bf37-27dfc1f40987"
      },
      "execution_count": 1,
      "outputs": [
        {
          "output_type": "stream",
          "name": "stdout",
          "text": [
            "Mounted at /content/drive\n"
          ]
        }
      ]
    },
    {
      "cell_type": "code",
      "source": [
        "!pip install ultralytics -q"
      ],
      "metadata": {
        "colab": {
          "base_uri": "https://localhost:8080/"
        },
        "id": "IdS7Op801Khy",
        "outputId": "d4973651-2144-4102-f58b-03e02de087f5"
      },
      "execution_count": 2,
      "outputs": [
        {
          "output_type": "stream",
          "name": "stdout",
          "text": [
            "\u001b[?25l     \u001b[90m━━━━━━━━━━━━━━━━━━━━━━━━━━━━━━━━━━━━━━━━\u001b[0m \u001b[32m0.0/606.2 kB\u001b[0m \u001b[31m?\u001b[0m eta \u001b[36m-:--:--\u001b[0m\r\u001b[2K     \u001b[91m━━━━\u001b[0m\u001b[90m╺\u001b[0m\u001b[90m━━━━━━━━━━━━━━━━━━━━━━━━━━━━━━━━━━━\u001b[0m \u001b[32m61.4/606.2 kB\u001b[0m \u001b[31m1.5 MB/s\u001b[0m eta \u001b[36m0:00:01\u001b[0m\r\u001b[2K     \u001b[91m━━━━━━━━━━━━━━━━━\u001b[0m\u001b[91m╸\u001b[0m\u001b[90m━━━━━━━━━━━━━━━━━━━━━\u001b[0m \u001b[32m276.5/606.2 kB\u001b[0m \u001b[31m3.9 MB/s\u001b[0m eta \u001b[36m0:00:01\u001b[0m\r\u001b[2K     \u001b[91m━━━━━━━━━━━━━━━━━━━━━━━━━━━━━━━━━━━━\u001b[0m\u001b[91m╸\u001b[0m\u001b[90m━━\u001b[0m \u001b[32m573.4/606.2 kB\u001b[0m \u001b[31m5.4 MB/s\u001b[0m eta \u001b[36m0:00:01\u001b[0m\r\u001b[2K     \u001b[90m━━━━━━━━━━━━━━━━━━━━━━━━━━━━━━━━━━━━━━━\u001b[0m \u001b[32m606.2/606.2 kB\u001b[0m \u001b[31m5.0 MB/s\u001b[0m eta \u001b[36m0:00:00\u001b[0m\n",
            "\u001b[?25h"
          ]
        }
      ]
    },
    {
      "cell_type": "code",
      "source": [
        "!mkdir ~/.kaggle\n",
        "!cp /content/drive/MyDrive/kaggle.json ~/.kaggle/\n",
        "!chmod 600 ~/.kaggle/kaggle.json"
      ],
      "metadata": {
        "id": "Ghw8MaqG1aDn"
      },
      "execution_count": 3,
      "outputs": []
    },
    {
      "cell_type": "code",
      "source": [
        "!pwd"
      ],
      "metadata": {
        "colab": {
          "base_uri": "https://localhost:8080/"
        },
        "id": "yCEkhIDt14nd",
        "outputId": "85581dd1-f299-460b-e30d-6fdaf58f7b9c"
      },
      "execution_count": 4,
      "outputs": [
        {
          "output_type": "stream",
          "name": "stdout",
          "text": [
            "/content\n"
          ]
        }
      ]
    },
    {
      "cell_type": "code",
      "source": [
        "!kaggle datasets download jessicali9530/stanford-dogs-dataset"
      ],
      "metadata": {
        "colab": {
          "base_uri": "https://localhost:8080/"
        },
        "id": "nekyz35Z18Bt",
        "outputId": "f3454274-4b78-4711-c235-ce255cad26d3"
      },
      "execution_count": 5,
      "outputs": [
        {
          "output_type": "stream",
          "name": "stdout",
          "text": [
            "Downloading stanford-dogs-dataset.zip to /content\n",
            " 99% 745M/750M [00:10<00:00, 99.9MB/s]\n",
            "100% 750M/750M [00:10<00:00, 77.4MB/s]\n"
          ]
        }
      ]
    },
    {
      "cell_type": "code",
      "source": [
        "!unzip -q /content/stanford-dogs-dataset.zip"
      ],
      "metadata": {
        "id": "GfGNT-Tm2SBO"
      },
      "execution_count": 6,
      "outputs": []
    },
    {
      "cell_type": "markdown",
      "source": [
        "#1.Preparation Datasets"
      ],
      "metadata": {
        "id": "elKVdXdb2m2k"
      }
    },
    {
      "cell_type": "code",
      "source": [
        "import os\n",
        "\n",
        "source_dir = '/content/images/Images'\n",
        "\n",
        "img_paths = []\n",
        "\n",
        "for root , dir, files in os.walk(source_dir):\n",
        "  for file in files:\n",
        "    file_path = os.path.join(root,file)\n",
        "    img_paths.append(file_path)\n",
        "print(len(img_paths))"
      ],
      "metadata": {
        "colab": {
          "base_uri": "https://localhost:8080/"
        },
        "id": "7NPAHVsS3sDU",
        "outputId": "1f4996f1-b1c3-472c-b7e3-ce893ba498ec"
      },
      "execution_count": 65,
      "outputs": [
        {
          "output_type": "stream",
          "name": "stdout",
          "text": [
            "20580\n"
          ]
        }
      ]
    },
    {
      "cell_type": "code",
      "source": [
        "import os\n",
        "\n",
        "source_dir = '/content/annotations/Annotation'\n",
        "\n",
        "anno_paths = []\n",
        "\n",
        "for root , dir, files in os.walk(source_dir):\n",
        "  for file in files:\n",
        "    file_path = os.path.join(root,file)\n",
        "    anno_paths.append(file_path)\n",
        "print(len(anno_paths))"
      ],
      "metadata": {
        "colab": {
          "base_uri": "https://localhost:8080/"
        },
        "id": "WRi5xxR_4y2p",
        "outputId": "18cd0c78-90be-4948-bb2e-b66a9683b745"
      },
      "execution_count": 66,
      "outputs": [
        {
          "output_type": "stream",
          "name": "stdout",
          "text": [
            "20580\n"
          ]
        }
      ]
    },
    {
      "cell_type": "code",
      "source": [
        "img_paths[:3]"
      ],
      "metadata": {
        "colab": {
          "base_uri": "https://localhost:8080/"
        },
        "id": "GSiD59sz56bz",
        "outputId": "661405e6-9380-4cc9-dbdf-fe02c7092be7"
      },
      "execution_count": 9,
      "outputs": [
        {
          "output_type": "execute_result",
          "data": {
            "text/plain": [
              "['/content/images/Images/n02088364-beagle/n02088364_12405.jpg',\n",
              " '/content/images/Images/n02088364-beagle/n02088364_852.jpg',\n",
              " '/content/images/Images/n02088364-beagle/n02088364_5147.jpg']"
            ]
          },
          "metadata": {},
          "execution_count": 9
        }
      ]
    },
    {
      "cell_type": "code",
      "source": [
        "img_paths[-3:]"
      ],
      "metadata": {
        "colab": {
          "base_uri": "https://localhost:8080/"
        },
        "id": "XIFeHXo96KRz",
        "outputId": "516d4bed-919d-4c32-8a61-6789366b06b1"
      },
      "execution_count": 10,
      "outputs": [
        {
          "output_type": "execute_result",
          "data": {
            "text/plain": [
              "['/content/images/Images/n02089078-black-and-tan_coonhound/n02089078_3440.jpg',\n",
              " '/content/images/Images/n02089078-black-and-tan_coonhound/n02089078_2404.jpg',\n",
              " '/content/images/Images/n02089078-black-and-tan_coonhound/n02089078_944.jpg']"
            ]
          },
          "metadata": {},
          "execution_count": 10
        }
      ]
    },
    {
      "cell_type": "code",
      "source": [
        "!mkdir aa"
      ],
      "metadata": {
        "id": "yXMnsUKx6279"
      },
      "execution_count": 11,
      "outputs": []
    },
    {
      "cell_type": "code",
      "source": [
        "import shutil\n",
        "source_file = '/content/images/Images/n02085620-Chihuahua/n02085620_10074.jpg'\n",
        "destination = '/content/aa/n02085620_10074.jpg'\n",
        "shutil.copy2(source_file,destination)"
      ],
      "metadata": {
        "colab": {
          "base_uri": "https://localhost:8080/",
          "height": 36
        },
        "id": "pzc-Fw076U5h",
        "outputId": "5676fbb8-3820-4bed-fda5-4587161eda78"
      },
      "execution_count": 12,
      "outputs": [
        {
          "output_type": "execute_result",
          "data": {
            "text/plain": [
              "'/content/aa/n02085620_10074.jpg'"
            ],
            "application/vnd.google.colaboratory.intrinsic+json": {
              "type": "string"
            }
          },
          "metadata": {},
          "execution_count": 12
        }
      ]
    },
    {
      "cell_type": "code",
      "source": [
        "import shutil\n",
        "source_file = '/content/images/Images/n02085620-Chihuahua/n02085620_10074.jpg'\n",
        "destination = '/content/aa'"
      ],
      "metadata": {
        "id": "tSEx7k_m7L5E"
      },
      "execution_count": 13,
      "outputs": []
    },
    {
      "cell_type": "code",
      "source": [
        "des_path = source_file.replace('/content/images/Images/n02085620-Chihuahua',destination )\n",
        "des_path"
      ],
      "metadata": {
        "colab": {
          "base_uri": "https://localhost:8080/",
          "height": 36
        },
        "id": "TelhvAl7760Y",
        "outputId": "9283ec41-9ab3-4e18-e8db-2c19f5b72dc3"
      },
      "execution_count": 14,
      "outputs": [
        {
          "output_type": "execute_result",
          "data": {
            "text/plain": [
              "'/content/aa/n02085620_10074.jpg'"
            ],
            "application/vnd.google.colaboratory.intrinsic+json": {
              "type": "string"
            }
          },
          "metadata": {},
          "execution_count": 14
        }
      ]
    },
    {
      "cell_type": "code",
      "source": [
        "import shutil\n",
        "source_file = '/content/images/Images/n02085620-Chihuahua/n02085620_10074.jpg'\n",
        "destination = '/content/aa'"
      ],
      "metadata": {
        "id": "ULuhtsDC8RKG"
      },
      "execution_count": 15,
      "outputs": []
    },
    {
      "cell_type": "code",
      "source": [
        "source_file.split('/')"
      ],
      "metadata": {
        "colab": {
          "base_uri": "https://localhost:8080/"
        },
        "id": "Bm1v22Wp8hSO",
        "outputId": "1345383a-2e63-49b8-ba95-4455c5e3b9b7"
      },
      "execution_count": 16,
      "outputs": [
        {
          "output_type": "execute_result",
          "data": {
            "text/plain": [
              "['',\n",
              " 'content',\n",
              " 'images',\n",
              " 'Images',\n",
              " 'n02085620-Chihuahua',\n",
              " 'n02085620_10074.jpg']"
            ]
          },
          "metadata": {},
          "execution_count": 16
        }
      ]
    },
    {
      "cell_type": "code",
      "source": [
        "source_file.split('/')[-1]"
      ],
      "metadata": {
        "colab": {
          "base_uri": "https://localhost:8080/",
          "height": 36
        },
        "id": "ZPado5YQ8mp5",
        "outputId": "570721ab-f84a-454a-89b9-bc6905a6faa4"
      },
      "execution_count": 17,
      "outputs": [
        {
          "output_type": "execute_result",
          "data": {
            "text/plain": [
              "'n02085620_10074.jpg'"
            ],
            "application/vnd.google.colaboratory.intrinsic+json": {
              "type": "string"
            }
          },
          "metadata": {},
          "execution_count": 17
        }
      ]
    },
    {
      "cell_type": "code",
      "source": [
        "true_des =  destination+'/' + source_file.split('/')[-1]\n",
        "true_des"
      ],
      "metadata": {
        "colab": {
          "base_uri": "https://localhost:8080/",
          "height": 36
        },
        "id": "Jo1B-WYq8xvd",
        "outputId": "bbc7c67a-57db-4c1a-d072-79a41c095232"
      },
      "execution_count": 18,
      "outputs": [
        {
          "output_type": "execute_result",
          "data": {
            "text/plain": [
              "'/content/aa/n02085620_10074.jpg'"
            ],
            "application/vnd.google.colaboratory.intrinsic+json": {
              "type": "string"
            }
          },
          "metadata": {},
          "execution_count": 18
        }
      ]
    },
    {
      "cell_type": "code",
      "source": [
        "##os\n",
        "import os"
      ],
      "metadata": {
        "id": "sq-0C_TF9H2o"
      },
      "execution_count": 19,
      "outputs": []
    },
    {
      "cell_type": "code",
      "source": [
        "!pwd"
      ],
      "metadata": {
        "colab": {
          "base_uri": "https://localhost:8080/"
        },
        "id": "wnzKsVwG9cNr",
        "outputId": "de8e6560-c6b2-4bf6-ae67-57c7d2b188b4"
      },
      "execution_count": 20,
      "outputs": [
        {
          "output_type": "stream",
          "name": "stdout",
          "text": [
            "/content\n"
          ]
        }
      ]
    },
    {
      "cell_type": "code",
      "source": [
        "os.getcwd()"
      ],
      "metadata": {
        "colab": {
          "base_uri": "https://localhost:8080/",
          "height": 36
        },
        "id": "g58Jeocl9XKT",
        "outputId": "700db416-dd30-4a3d-9340-cc72188b9fd1"
      },
      "execution_count": 21,
      "outputs": [
        {
          "output_type": "execute_result",
          "data": {
            "text/plain": [
              "'/content'"
            ],
            "application/vnd.google.colaboratory.intrinsic+json": {
              "type": "string"
            }
          },
          "metadata": {},
          "execution_count": 21
        }
      ]
    },
    {
      "cell_type": "code",
      "source": [
        "source_file"
      ],
      "metadata": {
        "colab": {
          "base_uri": "https://localhost:8080/",
          "height": 36
        },
        "id": "MuUE0IjL9oPu",
        "outputId": "50745a25-16c8-4977-d5e5-434304070566"
      },
      "execution_count": 22,
      "outputs": [
        {
          "output_type": "execute_result",
          "data": {
            "text/plain": [
              "'/content/images/Images/n02085620-Chihuahua/n02085620_10074.jpg'"
            ],
            "application/vnd.google.colaboratory.intrinsic+json": {
              "type": "string"
            }
          },
          "metadata": {},
          "execution_count": 22
        }
      ]
    },
    {
      "cell_type": "code",
      "source": [
        "f_name = os.path.basename(source_file)\n",
        "f_name"
      ],
      "metadata": {
        "colab": {
          "base_uri": "https://localhost:8080/",
          "height": 36
        },
        "id": "0JBsFs7R9gE9",
        "outputId": "52d471aa-f915-4e93-bcb9-43f2be8f139a"
      },
      "execution_count": 23,
      "outputs": [
        {
          "output_type": "execute_result",
          "data": {
            "text/plain": [
              "'n02085620_10074.jpg'"
            ],
            "application/vnd.google.colaboratory.intrinsic+json": {
              "type": "string"
            }
          },
          "metadata": {},
          "execution_count": 23
        }
      ]
    },
    {
      "cell_type": "code",
      "source": [
        "destination"
      ],
      "metadata": {
        "colab": {
          "base_uri": "https://localhost:8080/",
          "height": 36
        },
        "id": "VPzn-SJ_9v7z",
        "outputId": "12190268-0f6e-4d61-e91d-44b646a91920"
      },
      "execution_count": 24,
      "outputs": [
        {
          "output_type": "execute_result",
          "data": {
            "text/plain": [
              "'/content/aa'"
            ],
            "application/vnd.google.colaboratory.intrinsic+json": {
              "type": "string"
            }
          },
          "metadata": {},
          "execution_count": 24
        }
      ]
    },
    {
      "cell_type": "code",
      "source": [
        "os.path.join(destination,f_name )"
      ],
      "metadata": {
        "colab": {
          "base_uri": "https://localhost:8080/",
          "height": 36
        },
        "id": "U7-lABBl9sF4",
        "outputId": "325242b8-eece-4a85-e7b6-5d51014a79e5"
      },
      "execution_count": 25,
      "outputs": [
        {
          "output_type": "execute_result",
          "data": {
            "text/plain": [
              "'/content/aa/n02085620_10074.jpg'"
            ],
            "application/vnd.google.colaboratory.intrinsic+json": {
              "type": "string"
            }
          },
          "metadata": {},
          "execution_count": 25
        }
      ]
    },
    {
      "cell_type": "code",
      "source": [
        "##Pathlib"
      ],
      "metadata": {
        "id": "7IuvzFCx9-Vx"
      },
      "execution_count": 26,
      "outputs": []
    },
    {
      "cell_type": "code",
      "source": [
        "!mkdir a2"
      ],
      "metadata": {
        "id": "KkrCxFHn-cor"
      },
      "execution_count": 27,
      "outputs": []
    },
    {
      "cell_type": "code",
      "source": [
        "import shutil\n",
        "source_file = '/content/images/Images/n02085620-Chihuahua/n02085620_10074.jpg'\n",
        "dest_folder = '/content/a2'\n",
        "dest_path = os.path.join(dest_folder, os.path.basename(source_file))\n",
        "shutil.copy2(source_file,dest_path)"
      ],
      "metadata": {
        "colab": {
          "base_uri": "https://localhost:8080/",
          "height": 36
        },
        "id": "JIAycQD--J06",
        "outputId": "f4bdc401-7407-4389-c907-0688273bde0c"
      },
      "execution_count": 28,
      "outputs": [
        {
          "output_type": "execute_result",
          "data": {
            "text/plain": [
              "'/content/a2/n02085620_10074.jpg'"
            ],
            "application/vnd.google.colaboratory.intrinsic+json": {
              "type": "string"
            }
          },
          "metadata": {},
          "execution_count": 28
        }
      ]
    },
    {
      "cell_type": "code",
      "source": [
        "img_paths[0]"
      ],
      "metadata": {
        "colab": {
          "base_uri": "https://localhost:8080/",
          "height": 36
        },
        "id": "sbDwbZ6y-_Z6",
        "outputId": "94e9b494-2ea1-4005-e5d4-a6477224c39e"
      },
      "execution_count": 29,
      "outputs": [
        {
          "output_type": "execute_result",
          "data": {
            "text/plain": [
              "'/content/images/Images/n02088364-beagle/n02088364_12405.jpg'"
            ],
            "application/vnd.google.colaboratory.intrinsic+json": {
              "type": "string"
            }
          },
          "metadata": {},
          "execution_count": 29
        }
      ]
    },
    {
      "cell_type": "code",
      "source": [
        "# !mkdir -p data/images"
      ],
      "metadata": {
        "id": "ArbV9153_HmL"
      },
      "execution_count": 64,
      "outputs": []
    },
    {
      "cell_type": "code",
      "source": [
        "## Real copy\n",
        "dest_folder = '/content/data/images'\n",
        "\n",
        "os.makedirs(dest_folder, exist_ok=True)\n",
        "\n",
        "for img_path in img_paths:\n",
        "  dest_path = os.path.join(dest_folder, os.path.basename(img_path))\n",
        "  shutil.copy2(img_path, dest_path)\n"
      ],
      "metadata": {
        "id": "-AujVHmH_S8R"
      },
      "execution_count": 67,
      "outputs": []
    },
    {
      "cell_type": "code",
      "source": [
        "## Real copy labels\n",
        "dest_folder = '/content/data/labels'\n",
        "\n",
        "os.makedirs(dest_folder, exist_ok=True)\n",
        "\n",
        "for anno_path in anno_paths:\n",
        "  dest_path = os.path.join(dest_folder, os.path.basename(anno_path))\n",
        "  shutil.copy2(anno_path, dest_path)"
      ],
      "metadata": {
        "id": "sD86t_8IAF0a"
      },
      "execution_count": 68,
      "outputs": []
    },
    {
      "cell_type": "code",
      "source": [
        "# Check no. of files\n",
        "import os\n",
        "\n",
        "source_dir = '/content/data/images'\n",
        "\n",
        "img_paths = []\n",
        "\n",
        "for root , dir, files in os.walk(source_dir):\n",
        "  for file in files:\n",
        "    file_path = os.path.join(root,file)\n",
        "    img_paths.append(file_path)\n",
        "print(len(img_paths))"
      ],
      "metadata": {
        "id": "lcpO2Aj4BI3W",
        "colab": {
          "base_uri": "https://localhost:8080/"
        },
        "outputId": "395a5820-e124-447a-fb30-65a4a2e4a077"
      },
      "execution_count": 33,
      "outputs": [
        {
          "output_type": "stream",
          "name": "stdout",
          "text": [
            "20580\n"
          ]
        }
      ]
    },
    {
      "cell_type": "code",
      "source": [
        "# Check no. of files of labels\n",
        "import os\n",
        "\n",
        "source_dir = '/content/data/labels'\n",
        "\n",
        "lable_paths = []\n",
        "\n",
        "for root , dir, files in os.walk(source_dir):\n",
        "  for file in files:\n",
        "    file_path = os.path.join(root,file)\n",
        "    lable_paths.append(file_path)\n",
        "print(len(lable_paths))"
      ],
      "metadata": {
        "colab": {
          "base_uri": "https://localhost:8080/"
        },
        "id": "XmeODASHCHp4",
        "outputId": "2b5654a2-1d18-42c4-e380-fc89ca473d7f"
      },
      "execution_count": 34,
      "outputs": [
        {
          "output_type": "stream",
          "name": "stdout",
          "text": [
            "20580\n"
          ]
        }
      ]
    },
    {
      "cell_type": "code",
      "source": [
        "img_paths[:3]"
      ],
      "metadata": {
        "colab": {
          "base_uri": "https://localhost:8080/"
        },
        "id": "kArQoQEeCMPG",
        "outputId": "bd9dfee6-1859-47e0-dce6-1178f523507d"
      },
      "execution_count": 35,
      "outputs": [
        {
          "output_type": "execute_result",
          "data": {
            "text/plain": [
              "['/content/data/images/n02096051_1235.jpg',\n",
              " '/content/data/images/n02115641_2788.jpg',\n",
              " '/content/data/images/n02097209_3366.jpg']"
            ]
          },
          "metadata": {},
          "execution_count": 35
        }
      ]
    },
    {
      "cell_type": "code",
      "source": [
        "lable_paths[:3]"
      ],
      "metadata": {
        "colab": {
          "base_uri": "https://localhost:8080/"
        },
        "id": "oZEW-027CTtH",
        "outputId": "1849119f-8498-4e36-fd72-5248f6505851"
      },
      "execution_count": 36,
      "outputs": [
        {
          "output_type": "execute_result",
          "data": {
            "text/plain": [
              "['/content/data/labels/n02113186_694',\n",
              " '/content/data/labels/n02086079_4355',\n",
              " '/content/data/labels/n02097298_9293']"
            ]
          },
          "metadata": {},
          "execution_count": 36
        }
      ]
    },
    {
      "cell_type": "code",
      "source": [],
      "metadata": {
        "id": "lqxvO--vCYMd"
      },
      "execution_count": 36,
      "outputs": []
    },
    {
      "cell_type": "markdown",
      "source": [
        "##EP.2"
      ],
      "metadata": {
        "id": "TTjfON989Vh9"
      }
    },
    {
      "cell_type": "code",
      "source": [
        "#Sampling annotation file\n",
        "file_path = '/content/data/labels/n02085620_10074'\n",
        "\n",
        "with open(file_path, 'r') as file :\n",
        "  content = file.read()\n",
        "print(content)\n"
      ],
      "metadata": {
        "id": "kngFivgn9YtJ",
        "colab": {
          "base_uri": "https://localhost:8080/"
        },
        "outputId": "af1dc071-c136-4b64-b727-a3b8a9266f2a"
      },
      "execution_count": 37,
      "outputs": [
        {
          "output_type": "stream",
          "name": "stdout",
          "text": [
            "<annotation>\n",
            "\t<folder>02085620</folder>\n",
            "\t<filename>n02085620_10074</filename>\n",
            "\t<source>\n",
            "\t\t<database>ImageNet database</database>\n",
            "\t</source>\n",
            "\t<size>\n",
            "\t\t<width>333</width>\n",
            "\t\t<height>500</height>\n",
            "\t\t<depth>3</depth>\n",
            "\t</size>\n",
            "\t<segment>0</segment>\n",
            "\t<object>\n",
            "\t\t<name>Chihuahua</name>\n",
            "\t\t<pose>Unspecified</pose>\n",
            "\t\t<truncated>0</truncated>\n",
            "\t\t<difficult>0</difficult>\n",
            "\t\t<bndbox>\n",
            "\t\t\t<xmin>25</xmin>\n",
            "\t\t\t<ymin>10</ymin>\n",
            "\t\t\t<xmax>276</xmax>\n",
            "\t\t\t<ymax>498</ymax>\n",
            "\t\t</bndbox>\n",
            "\t</object>\n",
            "</annotation>\n"
          ]
        }
      ]
    },
    {
      "cell_type": "markdown",
      "source": [
        "#XML File read"
      ],
      "metadata": {
        "id": "_-Ei9e14-9St"
      }
    },
    {
      "cell_type": "code",
      "source": [
        "import xml.etree.ElementTree as ET\n",
        "\n",
        "xml_path = '/content/data/labels/n02085620_10074'\n",
        "tree = ET.parse(xml_path)\n",
        "root = tree.getroot()\n",
        "\n",
        "for item in root.findall('size'):\n",
        "  width = int(item.find('width').text)\n",
        "  height = int(item.find('height').text)\n",
        "  # print(width,height)\n",
        "\n",
        "\n",
        "yolo_lines = []\n",
        "for obj in root.findall('object'):\n",
        "  name = obj.find('name').text\n",
        "  bbox = obj.find('bndbox')\n",
        "\n",
        "  xmin =int(bbox.find('xmin').text)\n",
        "  ymin =int(bbox.find('ymin').text)\n",
        "  xmax =int(bbox.find('xmax').text)\n",
        "  ymax =int(bbox.find('ymax').text)\n",
        "  # print(xmin, ymin,xmax,ymax)\n",
        "\n",
        "  # convert bbox from xml to Yolo\n",
        "  x_center = (xmin+xmax) / (2.0 * width)\n",
        "  y_center = (ymin+ymax) / (2.0 *height)\n",
        "  box_width = (xmax-xmin) / width\n",
        "  box_height = (ymax-ymin) / height\n",
        "\n",
        "  # print(f\"{name} {x_center:.6f} {y_center:.6f} {box_width:.6f} {box_height:6f}\")\n",
        "  yolo_lines.append(f\"{name} {x_center:.6f} {y_center:.6f} {box_width:.6f} {box_height:6f}\")\n",
        "\n",
        "yolo_anno = \"\\n\".join(yolo_lines)\n",
        "\n",
        "yolo_file_path = xml_path + '.txt'\n",
        "# print(yolo_file_path)\n",
        "\n",
        "with open(yolo_file_path, 'w') as f :\n",
        "  f.write(yolo_anno)\n"
      ],
      "metadata": {
        "id": "p8KzUTuI_b3J"
      },
      "execution_count": 38,
      "outputs": []
    },
    {
      "cell_type": "code",
      "source": [
        "import os\n",
        "\n",
        "source_dir = '/content/images/Images'\n",
        "\n",
        "class_names = []\n",
        "\n",
        "for _ , dirs, _ in os.walk(source_dir):\n",
        "  for dir in dirs:\n",
        "    # print(dir[10:])\n",
        "    class_names.append(dir[10:])\n",
        "    class_names.sort()"
      ],
      "metadata": {
        "id": "D36u41KlFeVs"
      },
      "execution_count": 39,
      "outputs": []
    },
    {
      "cell_type": "code",
      "source": [
        "len(class_names)"
      ],
      "metadata": {
        "colab": {
          "base_uri": "https://localhost:8080/"
        },
        "id": "dDRhlOp8Hc32",
        "outputId": "a8f6fa95-8f82-467f-d4d9-41fcf2382b7f"
      },
      "execution_count": 40,
      "outputs": [
        {
          "output_type": "execute_result",
          "data": {
            "text/plain": [
              "120"
            ]
          },
          "metadata": {},
          "execution_count": 40
        }
      ]
    },
    {
      "cell_type": "code",
      "source": [
        "class_names[:5]"
      ],
      "metadata": {
        "colab": {
          "base_uri": "https://localhost:8080/"
        },
        "id": "rMHyvUtiH9_C",
        "outputId": "751321f8-a172-41c5-a662-20a4afb1c463"
      },
      "execution_count": 41,
      "outputs": [
        {
          "output_type": "execute_result",
          "data": {
            "text/plain": [
              "['Afghan_hound',\n",
              " 'African_hunting_dog',\n",
              " 'Airedale',\n",
              " 'American_Staffordshire_terrier',\n",
              " 'Appenzeller']"
            ]
          },
          "metadata": {},
          "execution_count": 41
        }
      ]
    },
    {
      "cell_type": "code",
      "source": [
        "class_names[-5:]"
      ],
      "metadata": {
        "colab": {
          "base_uri": "https://localhost:8080/"
        },
        "id": "k3hjz9AVIDeo",
        "outputId": "c24267c1-c449-49ad-f167-6d7cddc8e879"
      },
      "execution_count": 42,
      "outputs": [
        {
          "output_type": "execute_result",
          "data": {
            "text/plain": [
              "['toy_poodle', 'toy_terrier', 'vizsla', 'whippet', 'wire-haired_fox_terrier']"
            ]
          },
          "metadata": {},
          "execution_count": 42
        }
      ]
    },
    {
      "cell_type": "code",
      "source": [
        "class_names.index('vizsla')"
      ],
      "metadata": {
        "colab": {
          "base_uri": "https://localhost:8080/"
        },
        "id": "4kydE26uIJ9P",
        "outputId": "4524b370-e730-4b6f-e898-aa74b2c6936a"
      },
      "execution_count": 43,
      "outputs": [
        {
          "output_type": "execute_result",
          "data": {
            "text/plain": [
              "117"
            ]
          },
          "metadata": {},
          "execution_count": 43
        }
      ]
    },
    {
      "cell_type": "code",
      "source": [
        "import xml.etree.ElementTree as ET\n",
        "\n",
        "xml_path = '/content/data/labels/n02085620_10074'\n",
        "tree = ET.parse(xml_path)\n",
        "root = tree.getroot()\n",
        "\n",
        "for item in root.findall('size'):\n",
        "  width = int(item.find('width').text)\n",
        "  height = int(item.find('height').text)\n",
        "  # print(width,height)\n",
        "\n",
        "\n",
        "yolo_lines = []\n",
        "for obj in root.findall('object'):\n",
        "  name = obj.find('name').text\n",
        "\n",
        "  # Convert from name to idx\n",
        "  class_idx = class_names.index(name)\n",
        "\n",
        "  bbox = obj.find('bndbox')\n",
        "\n",
        "  xmin =int(bbox.find('xmin').text)\n",
        "  ymin =int(bbox.find('ymin').text)\n",
        "  xmax =int(bbox.find('xmax').text)\n",
        "  ymax =int(bbox.find('ymax').text)\n",
        "  # print(xmin, ymin,xmax,ymax)\n",
        "\n",
        "  # convert bbox from xml to Yolo\n",
        "  x_center = (xmin+xmax) / (2.0 * width)\n",
        "  y_center = (ymin+ymax) / (2.0 *height)\n",
        "  box_width = (xmax-xmin) / width\n",
        "  box_height = (ymax-ymin) / height\n",
        "\n",
        "  print(f\"{class_idx} {x_center:.6f} {y_center:.6f} {box_width:.6f} {box_height:6f}\")\n",
        "  yolo_lines.append(f\"{class_idx} {x_center:.6f} {y_center:.6f} {box_width:.6f} {box_height:6f}\")\n",
        "\n",
        "yolo_anno = \"\\n\".join(yolo_lines)\n",
        "\n",
        "yolo_file_path = xml_path + '.txt'\n",
        "# print(yolo_file_path)\n",
        "\n",
        "with open(yolo_file_path, 'w') as f :\n",
        "  f.write(yolo_anno)\n"
      ],
      "metadata": {
        "colab": {
          "base_uri": "https://localhost:8080/"
        },
        "id": "moxa6SpSIckX",
        "outputId": "156847a9-6572-4197-8361-b70ef796f5be"
      },
      "execution_count": 44,
      "outputs": [
        {
          "output_type": "stream",
          "name": "stdout",
          "text": [
            "17 0.451952 0.508000 0.753754 0.976000\n"
          ]
        }
      ]
    },
    {
      "cell_type": "markdown",
      "source": [
        "##Make function convert from xml to yolo format"
      ],
      "metadata": {
        "id": "1NC0tKxiI4CI"
      }
    },
    {
      "cell_type": "code",
      "source": [
        "import xml.etree.ElementTree as ET\n",
        "\n",
        "def xml_yolo(xml_path):\n",
        "  '''\n",
        "  xml_path : str (input xml path that need to change to yolo format)\n",
        "  '''\n",
        "  print(xml_path)\n",
        "  tree = ET.parse(xml_path)\n",
        "  root = tree.getroot()\n",
        "\n",
        "  for item in root.findall('size'):\n",
        "    width = int(item.find('width').text)\n",
        "    height = int(item.find('height').text)\n",
        "    # print(width,height)\n",
        "\n",
        "\n",
        "  yolo_lines = []\n",
        "  for obj in root.findall('object'):\n",
        "    name = obj.find('name').text\n",
        "\n",
        "    # Convert from name to idx\n",
        "    class_idx = class_names.index(name)\n",
        "\n",
        "    bbox = obj.find('bndbox')\n",
        "\n",
        "    xmin =int(bbox.find('xmin').text)\n",
        "    ymin =int(bbox.find('ymin').text)\n",
        "    xmax =int(bbox.find('xmax').text)\n",
        "    ymax =int(bbox.find('ymax').text)\n",
        "    # print(xmin, ymin,xmax,ymax)\n",
        "\n",
        "    # convert bbox from xml to Yolo\n",
        "    x_center = (xmin+xmax) / (2.0 * width)\n",
        "    y_center = (ymin+ymax) / (2.0 *height)\n",
        "    box_width = (xmax-xmin) / width\n",
        "    box_height = (ymax-ymin) / height\n",
        "\n",
        "    # print(f\"{class_idx} {x_center:.6f} {y_center:.6f} {box_width:.6f} {box_height:6f}\")\n",
        "    yolo_lines.append(f\"{class_idx} {x_center:.6f} {y_center:.6f} {box_width:.6f} {box_height:6f}\")\n",
        "\n",
        "  yolo_anno = \"\\n\".join(yolo_lines)\n",
        "\n",
        "  yolo_file_path = xml_path + '.txt'\n",
        "  # print(yolo_file_path)\n",
        "\n",
        "  with open(yolo_file_path, 'w') as f :\n",
        "    f.write(yolo_anno)"
      ],
      "metadata": {
        "id": "uRqJpNSTJGts"
      },
      "execution_count": 69,
      "outputs": []
    },
    {
      "cell_type": "code",
      "source": [
        "# xml_path = '/content/data/labels/n02085620_10074'"
      ],
      "metadata": {
        "id": "wgKrNOkSJvop"
      },
      "execution_count": 70,
      "outputs": []
    },
    {
      "cell_type": "code",
      "source": [
        "# xml_yolo(xml_path)"
      ],
      "metadata": {
        "id": "_DLB3DhwJaE6"
      },
      "execution_count": 71,
      "outputs": []
    },
    {
      "cell_type": "code",
      "source": [
        "import os\n",
        "\n",
        "source_dir = '/content/data/labels'\n",
        "\n",
        "anno_paths = []\n",
        "\n",
        "for root , dir, files in os.walk(source_dir):\n",
        "  for file in files:\n",
        "    file_path = os.path.join(root,file)\n",
        "    anno_paths.append(file_path)\n",
        "print(len(anno_paths))"
      ],
      "metadata": {
        "id": "PWqZ_MxxKhQ4",
        "outputId": "affbdcbf-81e9-463a-d778-8e42d595c03b",
        "colab": {
          "base_uri": "https://localhost:8080/"
        }
      },
      "execution_count": 76,
      "outputs": [
        {
          "output_type": "stream",
          "name": "stdout",
          "text": [
            "41160\n"
          ]
        }
      ]
    },
    {
      "cell_type": "code",
      "source": [
        "len(anno_paths)"
      ],
      "metadata": {
        "colab": {
          "base_uri": "https://localhost:8080/"
        },
        "id": "BrRBsznqJx-0",
        "outputId": "ab38ccd1-b9ce-45f6-c5fc-26379eaeeb3d"
      },
      "execution_count": 73,
      "outputs": [
        {
          "output_type": "execute_result",
          "data": {
            "text/plain": [
              "20580"
            ]
          },
          "metadata": {},
          "execution_count": 73
        }
      ]
    },
    {
      "cell_type": "code",
      "source": [
        "anno_paths[0]"
      ],
      "metadata": {
        "colab": {
          "base_uri": "https://localhost:8080/",
          "height": 36
        },
        "id": "2lrUN5pVKTMp",
        "outputId": "9544889a-7ff3-4678-c187-4ac40f7c7407"
      },
      "execution_count": 74,
      "outputs": [
        {
          "output_type": "execute_result",
          "data": {
            "text/plain": [
              "'/content/data/labels/n02113186_694'"
            ],
            "application/vnd.google.colaboratory.intrinsic+json": {
              "type": "string"
            }
          },
          "metadata": {},
          "execution_count": 74
        }
      ]
    },
    {
      "cell_type": "code",
      "source": [
        "# convert all files\n",
        "for anno_path in anno_paths:\n",
        "  xml_yolo(anno_path)"
      ],
      "metadata": {
        "id": "ZIFybeZjJ4bQ"
      },
      "execution_count": null,
      "outputs": []
    },
    {
      "cell_type": "code",
      "source": [],
      "metadata": {
        "id": "GVptWTpGK3qE"
      },
      "execution_count": null,
      "outputs": []
    }
  ]
}